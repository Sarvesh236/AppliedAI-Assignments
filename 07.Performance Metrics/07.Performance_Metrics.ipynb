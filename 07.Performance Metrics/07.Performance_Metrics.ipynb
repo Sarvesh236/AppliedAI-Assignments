{
 "cells": [
  {
   "cell_type": "markdown",
   "id": "03c47b4a",
   "metadata": {},
   "source": [
    "## Compute performance metrics for the given Y and Y_score without sklearn"
   ]
  },
  {
   "cell_type": "markdown",
   "id": "e39701a2",
   "metadata": {},
   "source": [
    "## A. Compute performance metrics for the given data '5_a.csv'"
   ]
  },
  {
   "cell_type": "code",
   "execution_count": 2,
   "id": "8f1139e4",
   "metadata": {},
   "outputs": [
    {
     "name": "stdout",
     "output_type": "stream",
     "text": [
      "unique [0. 1.]\n",
      "\n",
      "confusion matrix: \n",
      " [[    0.   100.]\n",
      " [    0. 10000.]]\n",
      "\n",
      "TN = 0.0, FP = 100.0, FN=0.0, TP=10000.0\n",
      "\n",
      " True\n",
      "\n",
      "F1 Score :  0.9950248756218906\n",
      "\n",
      "Accuracy score :  0.9900990099009901\n",
      "AUC score for 5a.csv :  0.48829900000000004\n"
     ]
    },
    {
     "data": {
      "text/plain": [
       "Text(0.5, 1.0, 'AUC=0.4883')"
      ]
     },
     "execution_count": 2,
     "metadata": {},
     "output_type": "execute_result"
    },
    {
     "data": {
      "image/png": "[encoded data removed]",
      "text/plain": [
       "<Figure size 432x288 with 1 Axes>"
      ]
     },
     "metadata": {
      "needs_background": "light"
     },
     "output_type": "display_data"
    }
   ],
   "source": [
    "def conf_mat(y_act,y_pred):\n",
    "    unique_classes = np.unique(y_act)    #unique classes in the dataset\n",
    "    print('unique',unique_classes)\n",
    "    confusion_mat = np.zeros((len(unique_classes), len(unique_classes)))   #creates 2x2 zero matrix for binary class\n",
    "    \n",
    "    for i in range(len(unique_classes)):  # Calculating the confusion matrix\n",
    "        for j in range(len(unique_classes)):\n",
    "            confusion_mat[i,j] = np.sum((y_act == unique_classes[i]) & (y_pred == unique_classes[j]))\n",
    "    return confusion_mat\n",
    "\n",
    "def tpr_fpr(df):  # Calculating TPR & FPR\n",
    "    tp = ((df['y'] == 1.0 ) & (df['y_predicted'] == 1)).sum()\n",
    "    fp = ((df['y'] == 0.0 ) & (df['y_predicted'] == 1)).sum()\n",
    "    tn = ((df['y'] == 0.0 ) & (df['y_predicted'] == 0)).sum()\n",
    "    fn = ((df['y'] == 1.0 ) & (df['y_predicted'] == 0)).sum()\n",
    "    \n",
    "    tpr = tp/(tp + fn)\n",
    "    fpr = fp/(fp + tn)\n",
    "    \n",
    "    return [tpr, fpr]\n",
    "\n",
    "def diff_threshold_tpr_fpr(data):\n",
    "    tpr_arr = []\n",
    "    fpr_arr = []\n",
    "    \n",
    "    sorted_data = data.sort_values(by=['proba'], ascending=False)\n",
    "    unique_thres = sorted_data['proba'].unique()\n",
    "    \n",
    "    for threshold in unique_thres:  # TPr & FPR for different Thresholds\n",
    "        sorted_data['y_predicted'] = np.where(sorted_data['proba'] >= threshold, 1, 0)\n",
    "        tpr_fpr_arr = tpr_fpr(sorted_data)\n",
    "        tpr_arr.append(tpr_fpr_arr[0])\n",
    "        fpr_arr.append(tpr_fpr_arr[1])\n",
    "    \n",
    "    return tpr_arr, fpr_arr\n",
    "\n",
    "\n",
    "\n",
    "import numpy as np\n",
    "import pandas as pd\n",
    "import matplotlib.pyplot as plt\n",
    "\n",
    "data_5a = pd.read_csv('5_a.csv')\n",
    "data_5a['y_pred'] = np.where(data_5a['proba'] >= 0.5, float(1), float(0))\n",
    "\n",
    "y = data_5a.iloc[: , 0].values\n",
    "\n",
    "y_prob = data_5a.iloc[: , 1]\n",
    "\n",
    "y_pred = data_5a.iloc[: , 2]\n",
    "\n",
    "a = conf_mat(y,y_pred)\n",
    "print(\"\\nconfusion matrix: \\n\",a)\n",
    "\n",
    "tn,fp,fn,tp = a.ravel()\n",
    "print(\"\\nTN = {0}, FP = {1}, FN={2}, TP={3}\".format(tn,fp,fn,tp))\n",
    "\n",
    "total = np.concatenate(a).sum()\n",
    "print('\\n',total == len(y))  # check if number of elements in data matches with confusion matrix.\n",
    "\n",
    "precision = tp/(tp + fp)\n",
    "\n",
    "recall = tp/(tp + fn)\n",
    "\n",
    "f1_score = (2*(precision*recall))/(precision+recall)\n",
    "print('\\nF1 Score : ',f1_score)\n",
    "\n",
    "accuracy_score = (tp + tn)/total\n",
    "print('\\nAccuracy score : ',accuracy_score)\n",
    "\n",
    "all_tpr, all_fpr = diff_threshold_tpr_fpr(data_5a)\n",
    "auc_score_5a = np.trapz(all_tpr, all_fpr)\n",
    "print(\"AUC score for 5a.csv : \",auc_score_5a)\n",
    "\n",
    "# plotting TPR vs FPR\n",
    "\n",
    "plt.plot(all_tpr, all_fpr, 'r', lw=2)\n",
    "plt.plot([0,1], [0,1], 'k-', lw=2)\n",
    "plt.xlabel('FPR')\n",
    "plt.ylabel('TPR')\n",
    "plt.title('AUC={}'.format(round(auc_score_5a, 4)))\n"
   ]
  },
  {
   "cell_type": "markdown",
   "id": "57ed97d5",
   "metadata": {},
   "source": [
    "### Verifying with SKLearn"
   ]
  },
  {
   "cell_type": "code",
   "execution_count": 9,
   "id": "59b557c1",
   "metadata": {},
   "outputs": [
    {
     "name": "stdout",
     "output_type": "stream",
     "text": [
      "sklearn confusion matrix :\n",
      " [[    0   100]\n",
      " [    0 10000]]\n",
      "\n",
      "sklearn_f1_score :  0.9950248756218906\n",
      "\n",
      "sklearn_accuracy_score  0.9900990099009901\n",
      "\n",
      "sk-learn roc_auc_score:  0.48829900000000004\n"
     ]
    }
   ],
   "source": [
    "#skl\n",
    "\n",
    "from sklearn.metrics import f1_score\n",
    "from sklearn.metrics import accuracy_score\n",
    "import matplotlib.pyplot as plt\n",
    "from sklearn.metrics import roc_auc_score\n",
    "from sklearn.metrics import confusion_matrix\n",
    "\n",
    "sklearn_confustion_matrix = confusion_matrix(y, y_pred)\n",
    "print('sklearn confusion matrix :\\n',sklearn_confustion_matrix)\n",
    "sklearn_f1_score = f1_score(y, y_pred)\n",
    "print('\\nsklearn_f1_score : ', sklearn_f1_score)\n",
    "sklearn_accuracy_score = accuracy_score(y, y_pred)\n",
    "print('\\nsklearn_accuracy_score ', sklearn_accuracy_score)\n",
    "\n",
    "sklearn_roc_auc_score = roc_auc_score(y, y_prob)\n",
    "print('\\nsk-learn roc_auc_score: ', sklearn_roc_auc_score)\n"
   ]
  },
  {
   "cell_type": "markdown",
   "id": "dcdef8c2",
   "metadata": {},
   "source": [
    "## B. Compute performance metrics for the given data '5_b.csv'"
   ]
  },
  {
   "cell_type": "code",
   "execution_count": 10,
   "id": "c0c6526a",
   "metadata": {},
   "outputs": [
    {
     "name": "stdout",
     "output_type": "stream",
     "text": [
      "unique [0. 1.]\n",
      "\n",
      "confusion matrix: \n",
      " [[9761.  239.]\n",
      " [  45.   55.]]\n",
      "\n",
      "TN = 9761.0, FP = 239.0, FN=45.0, TP=55.0\n",
      "\n",
      " True\n",
      "\n",
      "F1 Score :  0.2791878172588833\n",
      "\n",
      "Accuracy score :  0.9718811881188119\n",
      "AUC score for 5b.csv :  0.9377570000000001\n"
     ]
    }
   ],
   "source": [
    "data_5b = pd.read_csv('5_b.csv')\n",
    "#data_5b.columns\n",
    "data_5b['y_pred'] = np.where(data_5b['proba'] >= 0.5, float(1), float(0))\n",
    "\n",
    "y_b = data_5b.iloc[: , 0].values\n",
    "\n",
    "y_prob_b = data_5b.iloc[: , 1]\n",
    "\n",
    "y_pred_b = data_5b.iloc[: , 2]\n",
    "\n",
    "b = conf_mat(y_b,y_pred_b)\n",
    "print(\"\\nconfusion matrix: \\n\",b)\n",
    "\n",
    "tn_b,fp_b,fn_b,tp_b = b.ravel()\n",
    "print(\"\\nTN = {0}, FP = {1}, FN={2}, TP={3}\".format(tn_b,fp_b,fn_b,tp_b))\n",
    "\n",
    "total_b = np.concatenate(b).sum()\n",
    "print('\\n',total == len(y_b))  # check if number of elements in data matches with confusion matrix.\n",
    "\n",
    "precision_b = tp_b/(tp_b + fp_b)\n",
    "\n",
    "recall_b = tp_b/(tp_b + fn_b)\n",
    "\n",
    "f1_score_5b = (2*(precision_b*recall_b))/(precision_b+recall_b)\n",
    "print('\\nF1 Score : ',f1_score_5b)\n",
    "\n",
    "accuracy_score_5b = (tp_b + tn_b)/total_b\n",
    "print('\\nAccuracy score : ',accuracy_score_5b)\n",
    "\n",
    "all_tpr_b, all_fpr_b = diff_threshold_tpr_fpr(data_5b)\n",
    "auc_score_5b = np.trapz(all_tpr_b, all_fpr_b)\n",
    "print(\"AUC score for 5b.csv : \",auc_score_5b)"
   ]
  },
  {
   "cell_type": "markdown",
   "id": "562391d0",
   "metadata": {},
   "source": [
    "### C. Compute the best threshold (similarly to ROC curve computation) of probability which gives lowest values of metric <b>A</b> for the given data \n",
    "$ A = 500 \\times \\text{number of false negative} + 100 \\times \\text{numebr of false positive}$"
   ]
  },
  {
   "cell_type": "code",
   "execution_count": 8,
   "id": "92653949",
   "metadata": {},
   "outputs": [
    {
     "name": "stdout",
     "output_type": "stream",
     "text": [
      "Minimum value of A is 141000 and its threshold is 0.2300390278970873\n"
     ]
    }
   ],
   "source": [
    "def metric(y_act, y_prob, threshold):\n",
    "    tp = 0\n",
    "    fp = 0\n",
    "    tn = 0\n",
    "    fn = 0\n",
    "    \n",
    "    min_a = float('inf')    # Initializing the min_a with infinity\n",
    "    \n",
    "    for i in range(len(y_prob)):\n",
    "        if y_prob[i] >= threshold:\n",
    "            if y_act[i] == 1:\n",
    "                tp += 1\n",
    "            else:\n",
    "                fp += 1\n",
    "                \n",
    "        if y_prob[i] < threshold:\n",
    "            if y_act[i] == 0:\n",
    "                tn += 1\n",
    "            else:\n",
    "                fn += 1\n",
    "                \n",
    "    A = (500*fn)+(100*fp)\n",
    "    \n",
    "    return A\n",
    "\n",
    "def min_A(y_act, y_prob, unique_thresh):\n",
    "    min_a = float('inf')\n",
    "    min_t = 0\n",
    "    \n",
    "    for threshold in unique_thresh:\n",
    "        a = metric(y_act,y_prob,threshold)\n",
    "        if a <= min_a:\n",
    "            min_a = min(a, min_a)\n",
    "            min_t = threshold\n",
    "            \n",
    "    return min_a, min_t\n",
    "\n",
    "\n",
    "data_5c = pd.read_csv('5_c.csv')\n",
    "y_act_5c = data_5c.iloc[:, 0].values\n",
    "y_prob_5c = data_5c.iloc[:,1].values\n",
    "\n",
    "unique_thresholds = np.unique(y_prob_5c)\n",
    "#print(unique_thresholds)\n",
    "\n",
    "A = min_A(y_act_5c,y_prob_5c,unique_thresholds)\n",
    "print(\"Minimum value of A is {0} and its threshold is {1}\".format(A[0],A[1]))"
   ]
  },
  {
   "cell_type": "markdown",
   "id": "e65a7327",
   "metadata": {},
   "source": [
    "## D.</b></font> Compute performance metrics(for regression) for the given data 5_d.csv"
   ]
  },
  {
   "cell_type": "code",
   "execution_count": 7,
   "id": "8b84e454",
   "metadata": {},
   "outputs": [
    {
     "name": "stdout",
     "output_type": "stream",
     "text": [
      "Mean Square error is  177.16569974554707\n",
      "\n",
      "Mean Absolute Percentage error is  12.912029940096867\n",
      "\n",
      "R^2 error is  0.9563582786990937\n"
     ]
    }
   ],
   "source": [
    "def Calc_errors(y, y_pred):\n",
    "    y_bar = y.mean()\n",
    "    \n",
    "    ss_residual = ((y - y_pred)**2).sum()\n",
    "    ss_total = ((y - y_bar)**2).sum()\n",
    "    \n",
    "    mse = np.mean((y - y_pred)**2)\n",
    "    \n",
    "    mape = np.mean((np.abs(y - y_pred)) / np.mean(y))*100\n",
    "    \n",
    "    R2_score = 1-(ss_residual/ss_total)\n",
    "    \n",
    "    return mse,mape,R2_score\n",
    "    \n",
    "\n",
    "\n",
    "data_5d = pd.read_csv('5_d.csv')\n",
    "y_5d = data_5d.iloc[:, 0].values\n",
    "\n",
    "y_pred_5d = data_5d.iloc[:, 1].values\n",
    "\n",
    "mse,mape,R2 = Calc_errors(y_5d, y_pred_5d)\n",
    "\n",
    "print(\"Mean Square error is \", mse)\n",
    "print(\"\\nMean Absolute Percentage error is \", mape)\n",
    "print(\"\\nR^2 error is \", R2)"
   ]
  }
 ],
 "metadata": {
  "kernelspec": {
   "display_name": "Python 3 (ipykernel)",
   "language": "python",
   "name": "python3"
  },
  "language_info": {
   "codemirror_mode": {
    "name": "ipython",
    "version": 3
   },
   "file_extension": ".py",
   "mimetype": "text/x-python",
   "name": "python",
   "nbconvert_exporter": "python",
   "pygments_lexer": "ipython3",
   "version": "3.9.12"
  }
 },
 "nbformat": 4,
 "nbformat_minor": 5
}
