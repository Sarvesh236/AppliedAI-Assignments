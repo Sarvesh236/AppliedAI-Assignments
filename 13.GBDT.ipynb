{
 "cells": [
  {
   "cell_type": "markdown",
   "metadata": {
    "colab_type": "text",
    "id": "8wqapAXjsc24"
   },
   "source": [
    "# Assignment 9: GBDT"
   ]
  },
  {
   "cell_type": "markdown",
   "metadata": {
    "colab_type": "text",
    "id": "8u5NhbnEsc2-"
   },
   "source": [
    "#### Response Coding: Example"
   ]
  },
  {
   "cell_type": "markdown",
   "metadata": {
    "colab_type": "text",
    "id": "HIFWmwHKsc3A"
   },
   "source": [
    "<img src='http://i.imgur.com/TufZptV.jpg' width=700px>\n",
    "\n",
    "> The response tabel is built only on train dataset.\n",
    "> For a category which is not there in train data and present in test data, we will encode them with default values\n",
    "Ex: in our test data if have State: D then we encode it as [0.5, 0.05]"
   ]
  },
  {
   "cell_type": "code",
   "execution_count": null,
   "metadata": {},
   "outputs": [],
   "source": []
  },
  {
   "cell_type": "code",
   "execution_count": null,
   "metadata": {},
   "outputs": [],
   "source": []
  },
  {
   "cell_type": "markdown",
   "metadata": {
    "colab_type": "text",
    "id": "3KwfGufDsc3D"
   },
   "source": [
    "<ol>\n",
    "    <li><strong>Apply GBDT on these feature sets</strong>\n",
    "        <ul>\n",
    "            <li><font color='red'>Set 1</font>: categorical(instead of one hot encoding, try <a href='https://www.appliedaicourse.com/course/applied-ai-course-online/lessons/handling-categorical-and-numerical-features/'>response coding</a>: use probability values), numerical features + project_title(TFIDF)+  preprocessed_eassay (TFIDF)+sentiment Score of eassay(check the bellow example, include all 4 values as 4 features)</li>\n",
    "            <li><font color='red'>Set 2</font>: categorical(instead of one hot encoding, try <a href='https://www.appliedaicourse.com/course/applied-ai-course-online/lessons/handling-categorical-and-numerical-features/'>response coding</a>: use probability values), numerical features + project_title(TFIDF W2V)+  preprocessed_eassay (TFIDF W2V)</li>        \n",
    "    </li>\n",
    "    <li> Here in response encoding you need to apply the <strong>laplase smoothing</strong> value for test set. Laplase smoothing means, If test point is present in test but not in train then you need to apply default 0.5 as probability value for that data point (Refer the Response Encoding Image from above cell) </li>\n",
    "    <li>Please use atleast <strong> 35k </strong> data points </li></ul>\n",
    "    <li><strong>The hyper paramter tuning (Consider any two hyper parameters)</strong>\n",
    "        <ul>\n",
    "    <li>Find the best hyper parameter which will give the maximum <a href='https://www.appliedaicourse.com/course/applied-ai-course-online/lessons/receiver-operating-characteristic-curve-roc-curve-and-auc-1/'>AUC</a> value</li>\n",
    "    <li>find the best hyper paramter using k-fold cross validation/simple cross validation data</li>\n",
    "    <li>use gridsearch cv or randomsearch cv or you can write your own for loops to do this task</li>\n",
    "        </ul>\n",
    "    </li>\n",
    "    <li>\n",
    "    <strong>Representation of results</strong>\n",
    "        <ul>\n",
    "    <li>You need to plot the performance of model both on train data and cross validation data for each hyper parameter, like shown in the figure\n",
    "    <img src='https://i.imgur.com/Gp2DQmh.jpg' width=500px> with X-axis as <strong>n_estimators</strong>, Y-axis as <strong>max_depth</strong>, and Z-axis as <strong>AUC Score</strong> , we have given the notebook which explains how to plot this 3d plot, you can find it in the same drive <i>3d_scatter_plot.ipynb</i></li>\n",
    "            <p style=\"text-align:center;font-size:30px;color:red;\"><strong>or</strong></p> <br>\n",
    "    <li>You need to plot the performance of model both on train data and cross validation data for each hyper parameter, like shown in the figure\n",
    "    <img src='https://i.imgur.com/fgN9aUP.jpg' width=300px> <a href='https://seaborn.pydata.org/generated/seaborn.heatmap.html'>seaborn heat maps</a> with rows as <strong>n_estimators</strong>, columns as <strong>max_depth</strong>, and values inside the cell representing <strong>AUC Score</strong> </li>\n",
    "    <li>You choose either of the plotting techniques out of 3d plot or heat map</li>\n",
    "    <li>Once after you found the best hyper parameter, you need to train your model with it, and find the AUC on test data and plot the ROC curve on both train and test.\n",
    "        Make sure that you are using predict_proba method to calculate AUC curves, because AUC is calcualted on class probabilities and not on class labels.\n",
    "    <img src='https://i.imgur.com/wMQDTFe.jpg' width=300px></li>\n",
    "    <li>Along with plotting ROC curve, you need to print the <a href='https://www.appliedaicourse.com/course/applied-ai-course-online/lessons/confusion-matrix-tpr-fpr-fnr-tnr-1/'>confusion matrix</a> with predicted and original labels of test data points\n",
    "    <img src='https://i.imgur.com/IdN5Ctv.png' width=300px></li>\n",
    "            </ul>\n",
    "    <br>\n",
    "    <li>You need to summarize the results at the end of the notebook, summarize it in the table format\n",
    "        <img src='http://i.imgur.com/YVpIGGE.jpg' width=400px>\n",
    "    </li>\n",
    "</ol>"
   ]
  },
  {
   "cell_type": "markdown",
   "metadata": {},
   "source": [
    "# Few Notes"
   ]
  },
  {
   "cell_type": "markdown",
   "metadata": {},
   "source": [
    "\n",
    "\n",
    "1. Use atleast 35k data points\n",
    "2. Use classifier.Predict_proba() method instead of predict() method while calculating roc_auc scores\n",
    "3. Be sure that you are using laplase smoothing in response encoding function. Laplase smoothing means applying the default (0.5) value to test data if the test data is not present in the train set\n"
   ]
  },
  {
   "cell_type": "code",
   "execution_count": 2,
   "metadata": {},
   "outputs": [],
   "source": [
    "%matplotlib inline\n",
    "import warnings\n",
    "warnings.filterwarnings(\"ignore\")\n",
    "\n",
    "import pandas as pd\n",
    "import numpy as np\n",
    "import math as m\n",
    "import matplotlib.pyplot as plt\n",
    "import seaborn as sns\n",
    "import nltk\n",
    "import re\n",
    "\n",
    "from sklearn.feature_extraction.text import TfidfVectorizer\n",
    "from sklearn.feature_extraction.text import CountVectorizer\n",
    "from sklearn.preprocessing import Normalizer\n",
    "from sklearn.metrics import confusion_matrix\n",
    "from sklearn.model_selection import train_test_split\n",
    "from sklearn import metrics\n",
    "from sklearn.metrics import roc_curve, auc\n",
    "from tqdm import tqdm\n",
    "import nltk\n",
    "from nltk.sentiment.vader import SentimentIntensityAnalyzer"
   ]
  },
  {
   "cell_type": "markdown",
   "metadata": {
    "colab_type": "text",
    "id": "BOyTl7oKsc3W"
   },
   "source": [
    "<h1>1. GBDT (xgboost/lightgbm) </h1>"
   ]
  },
  {
   "cell_type": "markdown",
   "metadata": {
    "colab_type": "text",
    "id": "VWge-b2Zsc3Z"
   },
   "source": [
    "## 1.1 Loading Data"
   ]
  },
  {
   "cell_type": "code",
   "execution_count": 3,
   "metadata": {
    "colab": {},
    "colab_type": "code",
    "id": "WDZFu6-usc3d"
   },
   "outputs": [
    {
     "data": {
      "text/html": [
       "<div>\n",
       "<style scoped>\n",
       "    .dataframe tbody tr th:only-of-type {\n",
       "        vertical-align: middle;\n",
       "    }\n",
       "\n",
       "    .dataframe tbody tr th {\n",
       "        vertical-align: top;\n",
       "    }\n",
       "\n",
       "    .dataframe thead th {\n",
       "        text-align: right;\n",
       "    }\n",
       "</style>\n",
       "<table border=\"1\" class=\"dataframe\">\n",
       "  <thead>\n",
       "    <tr style=\"text-align: right;\">\n",
       "      <th></th>\n",
       "      <th>school_state</th>\n",
       "      <th>teacher_prefix</th>\n",
       "      <th>project_grade_category</th>\n",
       "      <th>teacher_number_of_previously_posted_projects</th>\n",
       "      <th>project_is_approved</th>\n",
       "      <th>clean_categories</th>\n",
       "      <th>clean_subcategories</th>\n",
       "      <th>essay</th>\n",
       "      <th>price</th>\n",
       "    </tr>\n",
       "  </thead>\n",
       "  <tbody>\n",
       "    <tr>\n",
       "      <th>0</th>\n",
       "      <td>ca</td>\n",
       "      <td>mrs</td>\n",
       "      <td>grades_prek_2</td>\n",
       "      <td>53</td>\n",
       "      <td>1</td>\n",
       "      <td>math_science</td>\n",
       "      <td>appliedsciences health_lifescience</td>\n",
       "      <td>i fortunate enough use fairy tale stem kits cl...</td>\n",
       "      <td>725.05</td>\n",
       "    </tr>\n",
       "    <tr>\n",
       "      <th>1</th>\n",
       "      <td>ut</td>\n",
       "      <td>ms</td>\n",
       "      <td>grades_3_5</td>\n",
       "      <td>4</td>\n",
       "      <td>1</td>\n",
       "      <td>specialneeds</td>\n",
       "      <td>specialneeds</td>\n",
       "      <td>imagine 8 9 years old you third grade classroo...</td>\n",
       "      <td>213.03</td>\n",
       "    </tr>\n",
       "    <tr>\n",
       "      <th>2</th>\n",
       "      <td>ca</td>\n",
       "      <td>mrs</td>\n",
       "      <td>grades_prek_2</td>\n",
       "      <td>10</td>\n",
       "      <td>1</td>\n",
       "      <td>literacy_language</td>\n",
       "      <td>literacy</td>\n",
       "      <td>having class 24 students comes diverse learner...</td>\n",
       "      <td>329.00</td>\n",
       "    </tr>\n",
       "  </tbody>\n",
       "</table>\n",
       "</div>"
      ],
      "text/plain": [
       "  school_state teacher_prefix project_grade_category  \\\n",
       "0           ca            mrs          grades_prek_2   \n",
       "1           ut             ms             grades_3_5   \n",
       "2           ca            mrs          grades_prek_2   \n",
       "\n",
       "   teacher_number_of_previously_posted_projects  project_is_approved  \\\n",
       "0                                            53                    1   \n",
       "1                                             4                    1   \n",
       "2                                            10                    1   \n",
       "\n",
       "    clean_categories                 clean_subcategories  \\\n",
       "0       math_science  appliedsciences health_lifescience   \n",
       "1       specialneeds                        specialneeds   \n",
       "2  literacy_language                            literacy   \n",
       "\n",
       "                                               essay   price  \n",
       "0  i fortunate enough use fairy tale stem kits cl...  725.05  \n",
       "1  imagine 8 9 years old you third grade classroo...  213.03  \n",
       "2  having class 24 students comes diverse learner...  329.00  "
      ]
     },
     "execution_count": 3,
     "metadata": {},
     "output_type": "execute_result"
    }
   ],
   "source": [
    "import pandas\n",
    "data = pandas.read_csv('preprocessed_data.csv')\n",
    "data.head(3)"
   ]
  },
  {
   "cell_type": "code",
   "execution_count": 4,
   "metadata": {},
   "outputs": [],
   "source": [
    "sid = SentimentIntensityAnalyzer()\n",
    "\n",
    "neg = []\n",
    "pos = []\n",
    "neu = []\n",
    "comp = []\n",
    "\n",
    "def update_sentiments(values):           # Calculating sentiment scores\n",
    "    \n",
    "    neg.append(values[\"neg\"])    \n",
    "    pos.append(values[\"pos\"])\n",
    "    neu.append(values[\"neu\"])\n",
    "    comp.append(values[\"compound\"])"
   ]
  },
  {
   "cell_type": "code",
   "execution_count": 5,
   "metadata": {},
   "outputs": [
    {
     "name": "stderr",
     "output_type": "stream",
     "text": [
      "100%|█████████████████████████████████████████████████████████████████████████| 109248/109248 [08:08<00:00, 223.51it/s]\n"
     ]
    }
   ],
   "source": [
    "for essay in tqdm(data[\"essay\"]):\n",
    "    update_sentiments(sid.polarity_scores(essay))"
   ]
  },
  {
   "cell_type": "code",
   "execution_count": 6,
   "metadata": {},
   "outputs": [
    {
     "data": {
      "text/html": [
       "<div>\n",
       "<style scoped>\n",
       "    .dataframe tbody tr th:only-of-type {\n",
       "        vertical-align: middle;\n",
       "    }\n",
       "\n",
       "    .dataframe tbody tr th {\n",
       "        vertical-align: top;\n",
       "    }\n",
       "\n",
       "    .dataframe thead th {\n",
       "        text-align: right;\n",
       "    }\n",
       "</style>\n",
       "<table border=\"1\" class=\"dataframe\">\n",
       "  <thead>\n",
       "    <tr style=\"text-align: right;\">\n",
       "      <th></th>\n",
       "      <th>school_state</th>\n",
       "      <th>teacher_prefix</th>\n",
       "      <th>project_grade_category</th>\n",
       "      <th>teacher_number_of_previously_posted_projects</th>\n",
       "      <th>project_is_approved</th>\n",
       "      <th>clean_categories</th>\n",
       "      <th>clean_subcategories</th>\n",
       "      <th>essay</th>\n",
       "      <th>price</th>\n",
       "      <th>neg</th>\n",
       "      <th>pos</th>\n",
       "      <th>neu</th>\n",
       "      <th>compound</th>\n",
       "    </tr>\n",
       "  </thead>\n",
       "  <tbody>\n",
       "    <tr>\n",
       "      <th>0</th>\n",
       "      <td>ca</td>\n",
       "      <td>mrs</td>\n",
       "      <td>grades_prek_2</td>\n",
       "      <td>53</td>\n",
       "      <td>1</td>\n",
       "      <td>math_science</td>\n",
       "      <td>appliedsciences health_lifescience</td>\n",
       "      <td>i fortunate enough use fairy tale stem kits cl...</td>\n",
       "      <td>725.05</td>\n",
       "      <td>0.013</td>\n",
       "      <td>0.205</td>\n",
       "      <td>0.783</td>\n",
       "      <td>0.9867</td>\n",
       "    </tr>\n",
       "    <tr>\n",
       "      <th>1</th>\n",
       "      <td>ut</td>\n",
       "      <td>ms</td>\n",
       "      <td>grades_3_5</td>\n",
       "      <td>4</td>\n",
       "      <td>1</td>\n",
       "      <td>specialneeds</td>\n",
       "      <td>specialneeds</td>\n",
       "      <td>imagine 8 9 years old you third grade classroo...</td>\n",
       "      <td>213.03</td>\n",
       "      <td>0.072</td>\n",
       "      <td>0.248</td>\n",
       "      <td>0.680</td>\n",
       "      <td>0.9897</td>\n",
       "    </tr>\n",
       "  </tbody>\n",
       "</table>\n",
       "</div>"
      ],
      "text/plain": [
       "  school_state teacher_prefix project_grade_category  \\\n",
       "0           ca            mrs          grades_prek_2   \n",
       "1           ut             ms             grades_3_5   \n",
       "\n",
       "   teacher_number_of_previously_posted_projects  project_is_approved  \\\n",
       "0                                            53                    1   \n",
       "1                                             4                    1   \n",
       "\n",
       "  clean_categories                 clean_subcategories  \\\n",
       "0     math_science  appliedsciences health_lifescience   \n",
       "1     specialneeds                        specialneeds   \n",
       "\n",
       "                                               essay   price    neg    pos  \\\n",
       "0  i fortunate enough use fairy tale stem kits cl...  725.05  0.013  0.205   \n",
       "1  imagine 8 9 years old you third grade classroo...  213.03  0.072  0.248   \n",
       "\n",
       "     neu  compound  \n",
       "0  0.783    0.9867  \n",
       "1  0.680    0.9897  "
      ]
     },
     "execution_count": 6,
     "metadata": {},
     "output_type": "execute_result"
    }
   ],
   "source": [
    "data[\"neg\"] = neg   # adding new features based on Sentiment scores\n",
    "data[\"pos\"] = pos\n",
    "data[\"neu\"] = neu\n",
    "data[\"compound\"] = comp\n",
    "\n",
    "data.head(2)"
   ]
  },
  {
   "cell_type": "markdown",
   "metadata": {
    "colab_type": "text",
    "id": "6lAMFKFcsc3j"
   },
   "source": [
    "<h2>1.2 Splitting data into Train and cross validation(or test): Stratified Sampling</h2>"
   ]
  },
  {
   "cell_type": "code",
   "execution_count": 7,
   "metadata": {
    "colab": {},
    "colab_type": "code",
    "id": "ODMijuuNsc3l"
   },
   "outputs": [
    {
     "name": "stdout",
     "output_type": "stream",
     "text": [
      "33500\n",
      "16500\n"
     ]
    }
   ],
   "source": [
    "X = data[:50000].drop(['project_is_approved'], axis=1)  # Taking 50,000 points\n",
    "y = data.iloc[:50000,4]                                 # 50,000 pts of project_is_approved column\n",
    "\n",
    "X_train, X_test, y_train, y_test = train_test_split(X, y, test_size=0.33, stratify=y,random_state=42)\n",
    "\n",
    "print(len(y_train))\n",
    "print(len(y_test))"
   ]
  },
  {
   "cell_type": "markdown",
   "metadata": {
    "colab_type": "text",
    "id": "vsALgl5Asc3u"
   },
   "source": [
    "<h2>1.3 Make Data Model Ready: encoding eassay, and project_title</h2>"
   ]
  },
  {
   "cell_type": "markdown",
   "metadata": {},
   "source": [
    "#### Essay (TF-IDF)"
   ]
  },
  {
   "cell_type": "code",
   "execution_count": 8,
   "metadata": {
    "colab": {},
    "colab_type": "code",
    "id": "1A_85jbWsc3v"
   },
   "outputs": [
    {
     "name": "stdout",
     "output_type": "stream",
     "text": [
      "After vectorization :\n",
      "(33500, 5000) (33500,)\n",
      "(16500, 5000) (16500,)\n"
     ]
    }
   ],
   "source": [
    "tfidf = TfidfVectorizer(min_df=10,max_features=5000)\n",
    "text_tfidf = tfidf.fit(X_train['essay'].values)\n",
    "\n",
    "X_train_tfidf =tfidf.transform(X_train['essay'].values)\n",
    "X_test_tfidf =tfidf.transform(X_test['essay'].values)\n",
    "\n",
    "print(\"After vectorization :\")\n",
    "print(X_train_tfidf.shape, y_train.shape)\n",
    "print(X_test_tfidf.shape, y_test.shape)"
   ]
  },
  {
   "cell_type": "markdown",
   "metadata": {},
   "source": [
    "#### Essay (TFIDF W2V Vectorizer)"
   ]
  },
  {
   "cell_type": "code",
   "execution_count": 9,
   "metadata": {},
   "outputs": [],
   "source": [
    "import pickle\n",
    "with open (r'glove_vectors', \"rb\") as f:\n",
    "    model = pickle.load(f)\n",
    "    glove_words = set(model.keys())"
   ]
  },
  {
   "cell_type": "code",
   "execution_count": 10,
   "metadata": {},
   "outputs": [],
   "source": [
    "tfidf1 = TfidfVectorizer()\n",
    "tfidf1.fit(X_train[\"essay\"])     # Creating a dictionary with features(words) as a key, and the idf as a value\n",
    "features = set(tfidf1.get_feature_names())\n",
    "dictionary = dict(zip(features, list(tfidf1.idf_)))"
   ]
  },
  {
   "cell_type": "code",
   "execution_count": 11,
   "metadata": {},
   "outputs": [
    {
     "name": "stderr",
     "output_type": "stream",
     "text": [
      "100%|███████████████████████████████████████████████████████████████████████████| 33500/33500 [02:11<00:00, 255.20it/s]\n"
     ]
    },
    {
     "name": "stdout",
     "output_type": "stream",
     "text": [
      "After vectorization :\n",
      "(33500, 300) (33500,)\n"
     ]
    }
   ],
   "source": [
    "#encoding the training dataset\n",
    "from scipy import sparse\n",
    "\n",
    "X_train_w2v = []                                  # the tfidf-w2v for each essay will be stored in this\n",
    "for sentence in tqdm(X_train[\"essay\"]):\n",
    "    null = np.zeros(300) \n",
    "    tfidf_wt =0; \n",
    "    for word in sentence.split(): \n",
    "        if (word in glove_words) and (word in features):\n",
    "            vec = model[word]\n",
    "            tfidf_value = dictionary[word]*(sentence.count(word)/len(sentence.split())) \n",
    "            tfidf_wt += tfidf_value\n",
    "    if tfidf_wt != 0:\n",
    "        null /= tfidf_wt\n",
    "    X_train_w2v.append(null)\n",
    "X_train_w2v = sparse.csr_matrix(X_train_w2v)    \n",
    "\n",
    "print(\"After vectorization :\")\n",
    "print(X_train_w2v.shape, y_train.shape)"
   ]
  },
  {
   "cell_type": "code",
   "execution_count": 12,
   "metadata": {},
   "outputs": [
    {
     "name": "stderr",
     "output_type": "stream",
     "text": [
      "100%|███████████████████████████████████████████████████████████████████████████| 16500/16500 [01:05<00:00, 251.46it/s]\n"
     ]
    },
    {
     "name": "stdout",
     "output_type": "stream",
     "text": [
      "After vectorization :\n",
      "(16500, 300) (16500,)\n"
     ]
    }
   ],
   "source": [
    "#encoding the test dataset\n",
    "\n",
    "X_test_w2v = []                                  # the tfidf-w2v for each essay will be stored in this\n",
    "for sentence in tqdm(X_test[\"essay\"]):\n",
    "    null = np.zeros(300) \n",
    "    tfidf_wt =0; \n",
    "    for word in sentence.split(): \n",
    "        if (word in glove_words) and (word in features):\n",
    "            vec = model[word]\n",
    "            tfidf_value = dictionary[word]*(sentence.count(word)/len(sentence.split())) \n",
    "            tfidf_wt += tfidf_value\n",
    "    if tfidf_wt != 0:\n",
    "        null /= tfidf_wt\n",
    "    X_test_w2v.append(null)\n",
    "X_test_w2v = sparse.csr_matrix(X_test_w2v)    \n",
    "\n",
    "print(\"After vectorization :\")\n",
    "print(X_test_w2v.shape, y_test.shape)"
   ]
  },
  {
   "cell_type": "markdown",
   "metadata": {
    "colab_type": "text",
    "id": "S3Vxxv2Hsc31"
   },
   "source": [
    "<h2>1.4 Make Data Model Ready: encoding numerical, categorical features</h2>"
   ]
  },
  {
   "cell_type": "markdown",
   "metadata": {},
   "source": [
    "### Encoding Categorical Features\n",
    "#### Code for response Encoding"
   ]
  },
  {
   "cell_type": "code",
   "execution_count": 13,
   "metadata": {
    "colab": {},
    "colab_type": "code",
    "id": "RAtihVPqsc33"
   },
   "outputs": [],
   "source": [
    "def calculate_prob(feat):\n",
    "    X = X_train\n",
    "    X['class'] = y_train    # adding the class ('project_is_approved') to x_train\n",
    "    n = X[feat].value_counts() # getting value counts of each category to use it as denominator\n",
    "    prob = dict()\n",
    "    for i, total in n.items():\n",
    "        vec = []\n",
    "        for j in range(2):\n",
    "            c = X.loc[(X['class'] == j) & (X[feat] == i)]\n",
    "            vec.append(len(c)/total)\n",
    "        prob[i] = vec    # adding probabilities of each class of the feature\n",
    "    \n",
    "    return prob\n",
    "\n",
    "\n",
    "def final(feature, x):\n",
    "    probs = calculate_prob(feature)\n",
    "    n = X_train[feature].value_counts()\n",
    "    data = []\n",
    "    for i in x[feature]:\n",
    "        if i in dict(n).keys():        # transform test data with trainning probabilities\n",
    "            data.append(probs[i])\n",
    "        else:\n",
    "            data.append([0.5, 0.05])\n",
    "    return data"
   ]
  },
  {
   "cell_type": "markdown",
   "metadata": {},
   "source": [
    "#### School State"
   ]
  },
  {
   "cell_type": "code",
   "execution_count": 14,
   "metadata": {},
   "outputs": [
    {
     "name": "stdout",
     "output_type": "stream",
     "text": [
      "After vectorization:\n",
      "(33500, 2) (33500,)\n",
      "(16500, 2) (16500,)\n"
     ]
    }
   ],
   "source": [
    "X_train_state = np.array(final('school_state',X_train))\n",
    "X_test_state = np.array(final('school_state',X_test))\n",
    "\n",
    "print(\"After vectorization:\")\n",
    "print(X_train_state.shape, y_train.shape)\n",
    "print(X_test_state.shape, y_test.shape)"
   ]
  },
  {
   "cell_type": "markdown",
   "metadata": {},
   "source": [
    "#### teacher_prefix"
   ]
  },
  {
   "cell_type": "code",
   "execution_count": 15,
   "metadata": {},
   "outputs": [
    {
     "name": "stdout",
     "output_type": "stream",
     "text": [
      "After vectorization:\n",
      "(33500, 2) (33500,)\n",
      "(16500, 2) (16500,)\n"
     ]
    }
   ],
   "source": [
    "X_train_teacher = np.array(final('teacher_prefix',X_train))\n",
    "X_test_teacher = np.array(final('teacher_prefix',X_test))\n",
    "\n",
    "print(\"After vectorization:\")\n",
    "print(X_train_teacher.shape, y_train.shape)\n",
    "print(X_test_teacher.shape, y_test.shape)"
   ]
  },
  {
   "cell_type": "markdown",
   "metadata": {},
   "source": [
    "#### project_grade_category"
   ]
  },
  {
   "cell_type": "code",
   "execution_count": 16,
   "metadata": {},
   "outputs": [
    {
     "name": "stdout",
     "output_type": "stream",
     "text": [
      "After vectorization :\n",
      "(33500, 2) (33500,)\n",
      "(16500, 2) (16500,)\n"
     ]
    }
   ],
   "source": [
    "X_train_grade = np.array(final('project_grade_category',X_train))\n",
    "X_test_grade = np.array(final('project_grade_category',X_test))\n",
    "\n",
    "print(\"After vectorization :\")\n",
    "print(X_train_grade.shape, y_train.shape)\n",
    "print(X_test_grade.shape, y_test.shape)"
   ]
  },
  {
   "cell_type": "markdown",
   "metadata": {},
   "source": [
    "#### clean_categories"
   ]
  },
  {
   "cell_type": "code",
   "execution_count": 17,
   "metadata": {},
   "outputs": [
    {
     "name": "stdout",
     "output_type": "stream",
     "text": [
      "After vectorization :\n",
      "(33500, 2) (33500,)\n",
      "(16500, 2) (16500,)\n"
     ]
    }
   ],
   "source": [
    "X_train_category = np.array(final('clean_categories',X_train))\n",
    "X_test_category = np.array(final('clean_categories',X_test))\n",
    "\n",
    "print(\"After vectorization :\")\n",
    "print(X_train_category.shape, y_train.shape)\n",
    "print(X_test_category.shape, y_test.shape)"
   ]
  },
  {
   "cell_type": "markdown",
   "metadata": {},
   "source": [
    "#### clean_subcategories"
   ]
  },
  {
   "cell_type": "code",
   "execution_count": 18,
   "metadata": {},
   "outputs": [
    {
     "name": "stdout",
     "output_type": "stream",
     "text": [
      "After vectorization :\n",
      "(33500, 2) (33500,)\n",
      "(16500, 2) (16500,)\n"
     ]
    }
   ],
   "source": [
    "X_train_subcategory = np.array(final('clean_subcategories',X_train))\n",
    "X_test_subcategory = np.array(final('clean_subcategories',X_test))\n",
    "\n",
    "print(\"After vectorization :\")\n",
    "print(X_train_subcategory.shape, y_train.shape)\n",
    "print(X_test_subcategory.shape, y_test.shape)"
   ]
  },
  {
   "cell_type": "markdown",
   "metadata": {},
   "source": [
    "### Encoding Numerical Features"
   ]
  },
  {
   "cell_type": "code",
   "execution_count": 19,
   "metadata": {},
   "outputs": [
    {
     "data": {
      "text/html": [
       "<div>\n",
       "<style scoped>\n",
       "    .dataframe tbody tr th:only-of-type {\n",
       "        vertical-align: middle;\n",
       "    }\n",
       "\n",
       "    .dataframe tbody tr th {\n",
       "        vertical-align: top;\n",
       "    }\n",
       "\n",
       "    .dataframe thead th {\n",
       "        text-align: right;\n",
       "    }\n",
       "</style>\n",
       "<table border=\"1\" class=\"dataframe\">\n",
       "  <thead>\n",
       "    <tr style=\"text-align: right;\">\n",
       "      <th></th>\n",
       "      <th>teacher_number_of_previously_posted_projects</th>\n",
       "      <th>price</th>\n",
       "      <th>neg</th>\n",
       "      <th>pos</th>\n",
       "      <th>neu</th>\n",
       "      <th>compound</th>\n",
       "    </tr>\n",
       "  </thead>\n",
       "  <tbody>\n",
       "    <tr>\n",
       "      <th>49731</th>\n",
       "      <td>11</td>\n",
       "      <td>39.98</td>\n",
       "      <td>0.047</td>\n",
       "      <td>0.272</td>\n",
       "      <td>0.682</td>\n",
       "      <td>0.9869</td>\n",
       "    </tr>\n",
       "    <tr>\n",
       "      <th>13094</th>\n",
       "      <td>0</td>\n",
       "      <td>151.86</td>\n",
       "      <td>0.040</td>\n",
       "      <td>0.278</td>\n",
       "      <td>0.682</td>\n",
       "      <td>0.9833</td>\n",
       "    </tr>\n",
       "    <tr>\n",
       "      <th>21316</th>\n",
       "      <td>8</td>\n",
       "      <td>282.92</td>\n",
       "      <td>0.011</td>\n",
       "      <td>0.429</td>\n",
       "      <td>0.560</td>\n",
       "      <td>0.9961</td>\n",
       "    </tr>\n",
       "    <tr>\n",
       "      <th>35336</th>\n",
       "      <td>9</td>\n",
       "      <td>444.98</td>\n",
       "      <td>0.034</td>\n",
       "      <td>0.286</td>\n",
       "      <td>0.680</td>\n",
       "      <td>0.9968</td>\n",
       "    </tr>\n",
       "    <tr>\n",
       "      <th>9569</th>\n",
       "      <td>1</td>\n",
       "      <td>245.89</td>\n",
       "      <td>0.045</td>\n",
       "      <td>0.152</td>\n",
       "      <td>0.802</td>\n",
       "      <td>0.9246</td>\n",
       "    </tr>\n",
       "  </tbody>\n",
       "</table>\n",
       "</div>"
      ],
      "text/plain": [
       "       teacher_number_of_previously_posted_projects   price    neg    pos  \\\n",
       "49731                                            11   39.98  0.047  0.272   \n",
       "13094                                             0  151.86  0.040  0.278   \n",
       "21316                                             8  282.92  0.011  0.429   \n",
       "35336                                             9  444.98  0.034  0.286   \n",
       "9569                                              1  245.89  0.045  0.152   \n",
       "\n",
       "         neu  compound  \n",
       "49731  0.682    0.9869  \n",
       "13094  0.682    0.9833  \n",
       "21316  0.560    0.9961  \n",
       "35336  0.680    0.9968  \n",
       "9569   0.802    0.9246  "
      ]
     },
     "execution_count": 19,
     "metadata": {},
     "output_type": "execute_result"
    }
   ],
   "source": [
    "# Combining all the numerical features into single DF and then encoding that DF\n",
    "\n",
    "X_train = X_train.drop(['class'],axis=1)\n",
    "\n",
    "abc = X_train.drop(['school_state','teacher_prefix','project_grade_category','clean_categories','clean_subcategories','essay'], axis=1)\n",
    "abc1 = X_test.drop(['school_state','teacher_prefix','project_grade_category','clean_categories','clean_subcategories','essay'], axis=1)\n",
    "abc.head(5)"
   ]
  },
  {
   "cell_type": "code",
   "execution_count": 20,
   "metadata": {},
   "outputs": [],
   "source": [
    "# normalizer.fit(abc) will rise an error Expected XX array, got 1D array instead:\n",
    "# we can give columns as a list to resolve this problem\n",
    "\n",
    "a = abc.values.tolist()\n",
    "b = abc1.values.tolist()"
   ]
  },
  {
   "cell_type": "code",
   "execution_count": 21,
   "metadata": {},
   "outputs": [
    {
     "name": "stdout",
     "output_type": "stream",
     "text": [
      "After vectorizations\n",
      "(33500, 6) (33500,)\n",
      "(16500, 6) (16500,)\n"
     ]
    }
   ],
   "source": [
    "normalizer = Normalizer()\n",
    "normalizer.fit(a)\n",
    "\n",
    "X_train_num = normalizer.transform(a)\n",
    "X_test_num = normalizer.transform(b)\n",
    "\n",
    "print(\"After vectorizations\")\n",
    "print(X_train_num.shape, y_train.shape)\n",
    "print(X_test_num.shape, y_test.shape)"
   ]
  },
  {
   "cell_type": "markdown",
   "metadata": {},
   "source": [
    "### Concatinating All The Features\n",
    "\n",
    "\n",
    "#### SET-1\n",
    "\n",
    "categorical(response coding) + numerical features + preprocessed_eassay (TFIDF)+ sentiment Score of eassay"
   ]
  },
  {
   "cell_type": "code",
   "execution_count": 22,
   "metadata": {},
   "outputs": [
    {
     "name": "stdout",
     "output_type": "stream",
     "text": [
      "(33500, 5016)\n",
      "(16500, 5016)\n"
     ]
    }
   ],
   "source": [
    "from scipy.sparse import hstack\n",
    "X_tr_1 = hstack((X_train_tfidf, X_train_state, X_train_teacher, X_train_grade, X_train_category, X_train_subcategory,X_train_num)).tocsr()\n",
    "X_te_1 = hstack((X_test_tfidf, X_test_state, X_test_teacher, X_test_grade, X_test_category, X_test_subcategory,X_test_num)).tocsr()\n",
    "\n",
    "print(X_tr_1.shape)\n",
    "print(X_te_1.shape)"
   ]
  },
  {
   "cell_type": "markdown",
   "metadata": {},
   "source": [
    "#### SET-2\n",
    "\n",
    "categorical(response coding) + numerical features + preprocessed_eassay (TFIDF W2V) + sentiment Score of eassay"
   ]
  },
  {
   "cell_type": "code",
   "execution_count": 23,
   "metadata": {},
   "outputs": [
    {
     "name": "stdout",
     "output_type": "stream",
     "text": [
      "(33500, 316)\n",
      "(16500, 316)\n"
     ]
    }
   ],
   "source": [
    "X_tr_2 = hstack((X_train_w2v, X_train_state, X_train_teacher, X_train_grade, X_train_category, X_train_subcategory,X_train_num)).tocsr()\n",
    "X_te_2 = hstack((X_test_w2v, X_test_state, X_test_teacher, X_test_grade, X_test_category, X_test_subcategory,X_test_num)).tocsr()\n",
    "\n",
    "print(X_tr_2.shape)\n",
    "print(X_te_2.shape)"
   ]
  },
  {
   "cell_type": "markdown",
   "metadata": {},
   "source": [
    "<h2>1.5 Appling Models on different kind of featurization as mentioned in the instructions</h2>\n",
    "\n",
    "<br>Apply GBDT on different kind of featurization as mentioned in the instructions\n",
    "<br> For Every model that you work on make sure you do the step 2 and step 3 of instrucations\n",
    "\n",
    "### DECISION TREE USING GRID SEARCH CV (SET - 1)"
   ]
  },
  {
   "cell_type": "code",
   "execution_count": 24,
   "metadata": {},
   "outputs": [
    {
     "data": {
      "text/plain": [
       "GridSearchCV(cv=5, estimator=GradientBoostingClassifier(), n_jobs=-1,\n",
       "             param_grid={'max_depth': [1, 5, 10, 50],\n",
       "                         'n_estimators': [5, 10, 15, 20]},\n",
       "             return_train_score=True, scoring='roc_auc')"
      ]
     },
     "execution_count": 24,
     "metadata": {},
     "output_type": "execute_result"
    }
   ],
   "source": [
    "from sklearn.ensemble import GradientBoostingClassifier\n",
    "from sklearn.model_selection import GridSearchCV\n",
    "param = {'max_depth': [1, 5, 10, 50], \n",
    "         'n_estimators':[5,10,15,20]}\n",
    " \n",
    "clf = GridSearchCV(GradientBoostingClassifier(), param, cv=5, scoring='roc_auc', return_train_score=True, n_jobs=-1)\n",
    "clf.fit(X_tr_1,y_train)"
   ]
  },
  {
   "cell_type": "code",
   "execution_count": 27,
   "metadata": {},
   "outputs": [
    {
     "name": "stdout",
     "output_type": "stream",
     "text": [
      "Best score for set 1:  0.687039737015531\n",
      "Best max_depth for set 1:  5\n",
      "Best best_n_estimators for set 1:  20\n"
     ]
    }
   ],
   "source": [
    "tr_auc = clf.cv_results_['mean_train_score']\n",
    "tr_auc_std = clf.cv_results_['std_train_score']\n",
    "te_auc = clf.cv_results_['mean_test_score'] \n",
    "te_auc_std = clf.cv_results_['std_test_score']\n",
    "\n",
    "best_max_depth = clf.best_params_[\"max_depth\"]\n",
    "best_n_estimators = clf.best_params_[\"n_estimators\"]\n",
    "\n",
    "print('Best score for set 1: ',clf.best_score_)\n",
    "print('Best max_depth for set 1: ',best_max_depth)\n",
    "print('Best best_n_estimators for set 1: ',best_n_estimators)"
   ]
  },
  {
   "cell_type": "markdown",
   "metadata": {},
   "source": [
    "### Hyperparameter v/s Auc\n",
    "\n",
    "#### Train"
   ]
  },
  {
   "cell_type": "code",
   "execution_count": 28,
   "metadata": {},
   "outputs": [
    {
     "data": {
      "image/png": "[encoded data removed]",
      "text/plain": [
       "<Figure size 720x432 with 2 Axes>"
      ]
     },
     "metadata": {
      "needs_background": "light"
     },
     "output_type": "display_data"
    }
   ],
   "source": [
    "import pandas as pd\n",
    "pvt = pd.pivot_table(pd.DataFrame(clf.cv_results_),\n",
    "    values='mean_train_score', index='param_max_depth', columns='param_n_estimators') #https://stackoverflow.com/questions/48791709/how-to-plot-a-heat-map-on-pivot-table-after-grid-search\n",
    "plt.figure(figsize=(10,6))\n",
    "ax=sns.heatmap(pvt,annot=True,linewidths=.5)"
   ]
  },
  {
   "cell_type": "markdown",
   "metadata": {},
   "source": [
    "#### Test"
   ]
  },
  {
   "cell_type": "code",
   "execution_count": 29,
   "metadata": {},
   "outputs": [
    {
     "data": {
      "image/png": "[encoded data removed]",
      "text/plain": [
       "<Figure size 720x432 with 2 Axes>"
      ]
     },
     "metadata": {
      "needs_background": "light"
     },
     "output_type": "display_data"
    }
   ],
   "source": [
    "import pandas as pd\n",
    "pvt = pd.pivot_table(pd.DataFrame(clf.cv_results_),\n",
    "    values='mean_test_score', index='param_max_depth', columns='param_n_estimators') #https://stackoverflow.com/questions/48791709/how-to-plot-a-heat-map-on-pivot-table-after-grid-search\n",
    "plt.figure(figsize=(10,6))\n",
    "ax=sns.heatmap(pvt,annot=True,linewidths=.5)"
   ]
  },
  {
   "cell_type": "markdown",
   "metadata": {},
   "source": [
    "### ROC : Train And Test Data"
   ]
  },
  {
   "cell_type": "code",
   "execution_count": 34,
   "metadata": {},
   "outputs": [
    {
     "data": {
      "image/png": "[encoded data removed]",
      "text/plain": [
       "<Figure size 864x576 with 1 Axes>"
      ]
     },
     "metadata": {
      "needs_background": "light"
     },
     "output_type": "display_data"
    }
   ],
   "source": [
    "model = GradientBoostingClassifier(max_depth = best_max_depth,n_estimators = best_n_estimators,random_state = 0)\n",
    "model.fit(X_tr_1,y_train)\n",
    "y_tr_prob = clf.predict_proba(X_tr_1)[:,1]     # getting probability scores\n",
    "y_te_prob = clf.predict_proba(X_te_1 )[:,1]\n",
    "\n",
    "tr_fpr, tr_tpr, tr_thresh = roc_curve(y_train, y_tr_prob)       # getting fpr and tpr values\n",
    "te_fpr, te_tpr, te_thresh = roc_curve(y_test, y_te_prob)\n",
    "\n",
    "plt.figure(figsize=(12,8))\n",
    "plt.plot(tr_fpr, tr_tpr, label=\"Train AUC =\"+str(auc(tr_fpr, tr_tpr)))\n",
    "plt.plot(te_fpr, te_tpr, label=\"Test AUC =\"+str(auc(te_fpr, te_tpr)))\n",
    "plt.legend()\n",
    "plt.xlabel(\"FPR\")\n",
    "plt.ylabel(\"TPR\")\n",
    "plt.title(\"ROC CURVE\")\n",
    "plt.grid(color='black',lw=0.5)"
   ]
  },
  {
   "cell_type": "markdown",
   "metadata": {},
   "source": [
    "### Confusion Matrix"
   ]
  },
  {
   "cell_type": "code",
   "execution_count": 35,
   "metadata": {},
   "outputs": [],
   "source": [
    "def calc_best_threshold(thresh, fpr, tpr):\n",
    "    \n",
    "    t = thresh[np.argmax(tpr*(1-fpr))]  # it will be maximum when fpr is very low and tpr is very high\n",
    "    print(\"the maximum value of tpr*(1-fpr)\", max(tpr*(1-fpr)), \"for threshold\", np.round(t,3), \"\\n\")\n",
    "    return t\n",
    "\n",
    "def calc_predictions(prob, thresh):\n",
    "    predictions = []\n",
    "    for p in prob:\n",
    "        if p>=thresh:\n",
    "            predictions.append(1)\n",
    "        else:\n",
    "            predictions.append(0)\n",
    "    return predictions"
   ]
  },
  {
   "cell_type": "code",
   "execution_count": 36,
   "metadata": {},
   "outputs": [
    {
     "name": "stdout",
     "output_type": "stream",
     "text": [
      "the maximum value of tpr*(1-fpr) 0.4857424171933649 for threshold 0.831 \n",
      "\n",
      "Confusion Matrix of Train Data :\n",
      " [[ 3547  1818]\n",
      " [ 7464 20671]]\n"
     ]
    },
    {
     "data": {
      "text/plain": [
       "Text(0.5, 1.0, 'Confusion Matrix of Train Data')"
      ]
     },
     "execution_count": 36,
     "metadata": {},
     "output_type": "execute_result"
    },
    {
     "data": {
      "image/png": "[encoded data removed]",
      "text/plain": [
       "<Figure size 432x288 with 2 Axes>"
      ]
     },
     "metadata": {
      "needs_background": "light"
     },
     "output_type": "display_data"
    }
   ],
   "source": [
    "# https://stackoverflow.com/questions/35572000/how-can-i-plot-a-confusion-matrix\n",
    "\n",
    "# For Train Data\n",
    "\n",
    "best_t = calc_best_threshold(tr_thresh, tr_fpr, tr_tpr)\n",
    "cm = metrics.confusion_matrix(y_train,calc_predictions(y_tr_prob, best_t))\n",
    "\n",
    "print(\"Confusion Matrix of Train Data :\\n\",cm)\n",
    "sns.heatmap(cm, annot=True, fmt='d',cmap='Blues',annot_kws = {\"size\":16})\n",
    "plt.ylabel('True Label',size=12)\n",
    "plt.xlabel('Predicted Label',size=12)\n",
    "plt.title('Confusion Matrix of Train Data',size=12)"
   ]
  },
  {
   "cell_type": "code",
   "execution_count": 37,
   "metadata": {},
   "outputs": [
    {
     "name": "stdout",
     "output_type": "stream",
     "text": [
      "the maximum value of tpr*(1-fpr) 0.39161129173386083 for threshold 0.844 \n",
      "\n",
      "Confusion Matrix of Test Data :\n",
      " [[1675  967]\n",
      " [5298 8560]]\n"
     ]
    },
    {
     "data": {
      "text/plain": [
       "Text(0.5, 1.0, 'Confusion Matrix of Train Data')"
      ]
     },
     "execution_count": 37,
     "metadata": {},
     "output_type": "execute_result"
    },
    {
     "data": {
      "image/png": "[encoded data removed]",
      "text/plain": [
       "<Figure size 432x288 with 2 Axes>"
      ]
     },
     "metadata": {
      "needs_background": "light"
     },
     "output_type": "display_data"
    }
   ],
   "source": [
    "# For Test Data\n",
    "\n",
    "best_t = calc_best_threshold(te_thresh, te_fpr, te_tpr)\n",
    "cm = metrics.confusion_matrix(y_test,calc_predictions(y_te_prob, best_t))\n",
    "\n",
    "print(\"Confusion Matrix of Test Data :\\n\",cm)\n",
    "#print(cm)\n",
    "sns.heatmap(cm, annot=True, fmt='d',cmap='Greens',annot_kws = {\"size\":16})\n",
    "plt.ylabel('True Label',size=12)\n",
    "plt.xlabel('Predicted Label',size=12)\n",
    "plt.title('Confusion Matrix of Train Data',size=12)"
   ]
  },
  {
   "cell_type": "markdown",
   "metadata": {},
   "source": [
    "### DECISION TREE USING GRID SEARCH CV (SET - 2)"
   ]
  },
  {
   "cell_type": "code",
   "execution_count": 38,
   "metadata": {},
   "outputs": [
    {
     "data": {
      "text/plain": [
       "GridSearchCV(cv=5, estimator=GradientBoostingClassifier(), n_jobs=-1,\n",
       "             param_grid={'max_depth': [1, 5, 10, 50],\n",
       "                         'n_estimators': [5, 10, 15, 20]},\n",
       "             return_train_score=True, scoring='roc_auc')"
      ]
     },
     "execution_count": 38,
     "metadata": {},
     "output_type": "execute_result"
    }
   ],
   "source": [
    "\n",
    "clf.fit(X_tr_2,y_train)"
   ]
  },
  {
   "cell_type": "code",
   "execution_count": 40,
   "metadata": {},
   "outputs": [
    {
     "name": "stdout",
     "output_type": "stream",
     "text": [
      "Best score for set 1:  0.6371303747690995\n",
      "Best max_depth for set 1:  5\n",
      "Best min_samples_split for set 1:  20\n"
     ]
    }
   ],
   "source": [
    "tr_auc1 = clf.cv_results_['mean_train_score']\n",
    "tr_auc_std1 = clf.cv_results_['std_train_score']\n",
    "te_auc1 = clf.cv_results_['mean_test_score'] \n",
    "te_auc_std1 = clf.cv_results_['std_test_score']\n",
    "\n",
    "best_max_depth1 = clf.best_params_[\"max_depth\"]\n",
    "best_n_estimators1 = clf.best_params_[\"n_estimators\"]\n",
    "\n",
    "print('Best score for set 1: ',clf.best_score_)\n",
    "print('Best max_depth for set 1: ',best_max_depth1)\n",
    "print('Best min_samples_split for set 1: ',best_n_estimators1)"
   ]
  },
  {
   "cell_type": "markdown",
   "metadata": {
    "colab_type": "text",
    "id": "I5wDFj17sc3-"
   },
   "source": [
    "### Hyperparameter v/s Auc\n",
    "\n",
    "#### Train"
   ]
  },
  {
   "cell_type": "code",
   "execution_count": 42,
   "metadata": {
    "colab_type": "text",
    "id": "O5tWox1jsc3_"
   },
   "outputs": [
    {
     "data": {
      "image/png": "[encoded data removed]",
      "text/plain": [
       "<Figure size 720x432 with 2 Axes>"
      ]
     },
     "metadata": {
      "needs_background": "light"
     },
     "output_type": "display_data"
    }
   ],
   "source": [
    "# reference - https://stackoverflow.com/questions/48791709/how-to-plot-a-heat-map-on-pivot-table-after-grid-search\n",
    "\n",
    "import pandas as pd\n",
    "pvt = pd.pivot_table(pd.DataFrame(clf.cv_results_),\n",
    "    values='mean_train_score', index='param_max_depth', columns='param_n_estimators')\n",
    "plt.figure(figsize=(10,6))\n",
    "ax=sns.heatmap(pvt,annot=True,linewidths=.5)"
   ]
  },
  {
   "cell_type": "markdown",
   "metadata": {},
   "source": [
    "#### Test"
   ]
  },
  {
   "cell_type": "code",
   "execution_count": 43,
   "metadata": {
    "colab": {},
    "colab_type": "code",
    "id": "ARWulYUwsc4B"
   },
   "outputs": [
    {
     "data": {
      "image/png": "[encoded data removed]",
      "text/plain": [
       "<Figure size 720x432 with 2 Axes>"
      ]
     },
     "metadata": {
      "needs_background": "light"
     },
     "output_type": "display_data"
    }
   ],
   "source": [
    "import pandas as pd\n",
    "pvt = pd.pivot_table(pd.DataFrame(clf.cv_results_),\n",
    "    values='mean_test_score', index='param_max_depth', columns='param_n_estimators')\n",
    "plt.figure(figsize=(10,6))\n",
    "ax=sns.heatmap(pvt,annot=True,linewidths=.5)"
   ]
  },
  {
   "cell_type": "markdown",
   "metadata": {},
   "source": [
    "### ROC : Train And Test Data"
   ]
  },
  {
   "cell_type": "code",
   "execution_count": 45,
   "metadata": {},
   "outputs": [
    {
     "data": {
      "image/png": "[encoded data removed]",
      "text/plain": [
       "<Figure size 864x576 with 1 Axes>"
      ]
     },
     "metadata": {
      "needs_background": "light"
     },
     "output_type": "display_data"
    }
   ],
   "source": [
    "model1 = GradientBoostingClassifier(max_depth = best_max_depth1, n_estimators = best_n_estimators1, random_state = 0)\n",
    "model1.fit(X_tr_2,y_train)\n",
    "y_tr_prob = clf.predict_proba(X_tr_2)[:,1]     # getting probability scores\n",
    "y_te_prob = clf.predict_proba(X_te_2)[:,1]\n",
    "\n",
    "tr_fpr, tr_tpr, tr_thresh = roc_curve(y_train, y_tr_prob)       # getting fpr and tpr values\n",
    "te_fpr, te_tpr, te_thresh = roc_curve(y_test, y_te_prob)\n",
    "\n",
    "plt.figure(figsize=(12,8))\n",
    "plt.plot(tr_fpr, tr_tpr, label=\"Train AUC =\"+str(auc(tr_fpr, tr_tpr)))\n",
    "plt.plot(te_fpr, te_tpr, label=\"Test AUC =\"+str(auc(te_fpr, te_tpr)))\n",
    "plt.legend()\n",
    "plt.xlabel(\"FPR\")\n",
    "plt.ylabel(\"TPR\")\n",
    "plt.title(\"ROC CURVE\")\n",
    "plt.grid(color='black',lw=0.5)"
   ]
  },
  {
   "cell_type": "markdown",
   "metadata": {},
   "source": [
    "### Confusion Matrix"
   ]
  },
  {
   "cell_type": "code",
   "execution_count": 46,
   "metadata": {},
   "outputs": [
    {
     "name": "stdout",
     "output_type": "stream",
     "text": [
      "the maximum value of tpr*(1-fpr) 0.3941302444229833 for threshold 0.837 \n",
      "\n",
      "Confusion Matrix of Train Data :\n",
      " [[ 3391  1974]\n",
      " [10591 17544]]\n"
     ]
    },
    {
     "data": {
      "text/plain": [
       "Text(0.5, 1.0, 'Confusion Matrix of Train Data')"
      ]
     },
     "execution_count": 46,
     "metadata": {},
     "output_type": "execute_result"
    },
    {
     "data": {
      "image/png": "[encoded data removed]",
      "text/plain": [
       "<Figure size 432x288 with 2 Axes>"
      ]
     },
     "metadata": {
      "needs_background": "light"
     },
     "output_type": "display_data"
    }
   ],
   "source": [
    "# For Train Data\n",
    "\n",
    "best_t = calc_best_threshold(tr_thresh, tr_fpr, tr_tpr)\n",
    "cm = metrics.confusion_matrix(y_train,calc_predictions(y_tr_prob, best_t))\n",
    "\n",
    "print(\"Confusion Matrix of Train Data :\\n\",cm)\n",
    "sns.heatmap(cm, annot=True, fmt='d',cmap='Blues',annot_kws = {\"size\":16})\n",
    "plt.ylabel('True Label',size=12)\n",
    "plt.xlabel('Predicted Label',size=12)\n",
    "plt.title('Confusion Matrix of Train Data',size=12)"
   ]
  },
  {
   "cell_type": "code",
   "execution_count": 47,
   "metadata": {},
   "outputs": [
    {
     "name": "stdout",
     "output_type": "stream",
     "text": [
      "the maximum value of tpr*(1-fpr) 0.3393891967287101 for threshold 0.838 \n",
      "\n",
      "Confusion Matrix of Test Data :\n",
      " [[1477 1165]\n",
      " [5445 8413]]\n"
     ]
    },
    {
     "data": {
      "text/plain": [
       "Text(0.5, 1.0, 'Confusion Matrix of Train Data')"
      ]
     },
     "execution_count": 47,
     "metadata": {},
     "output_type": "execute_result"
    },
    {
     "data": {
      "image/png": "[encoded data removed]",
      "text/plain": [
       "<Figure size 432x288 with 2 Axes>"
      ]
     },
     "metadata": {
      "needs_background": "light"
     },
     "output_type": "display_data"
    }
   ],
   "source": [
    "# For Test Data\n",
    "\n",
    "best_t = calc_best_threshold(te_thresh, te_fpr, te_tpr)\n",
    "cm = metrics.confusion_matrix(y_test,calc_predictions(y_te_prob, best_t))\n",
    "\n",
    "print(\"Confusion Matrix of Test Data :\\n\",cm)\n",
    "#print(cm)\n",
    "sns.heatmap(cm, annot=True, fmt='d',cmap='Greens',annot_kws = {\"size\":16})\n",
    "plt.ylabel('True Label',size=12)\n",
    "plt.xlabel('Predicted Label',size=12)\n",
    "plt.title('Confusion Matrix of Train Data',size=12)"
   ]
  },
  {
   "cell_type": "markdown",
   "metadata": {
    "colab_type": "text",
    "id": "YhFN-lDWsc4G"
   },
   "source": [
    "<h1>3. Summary</h1>\n"
   ]
  },
  {
   "cell_type": "code",
   "execution_count": 50,
   "metadata": {},
   "outputs": [
    {
     "name": "stdout",
     "output_type": "stream",
     "text": [
      "+-------+------------+----------------------------+---------------------------------+----------+\n",
      "| S.No. | Vectorizer |           Model            |         Hyper Parameter         | Test-AUC |\n",
      "+-------+------------+----------------------------+---------------------------------+----------+\n",
      "|   1   |   TFIDF    | GradientBoostingClassifier |  max_depth =5 , n_estimators=20 |  0.687   |\n",
      "+-------+------------+----------------------------+---------------------------------+----------+\n",
      "|   2   | TFIDF W2V  | GradientBoostingClassifier |  max_depth =5 , n_estimators=20 |  0.637   |\n",
      "+-------+------------+----------------------------+---------------------------------+----------+\n"
     ]
    }
   ],
   "source": [
    " # http://zetcode.com/python/prettytable/\n",
    "\n",
    "from prettytable import PrettyTable\n",
    "from prettytable import ALL as ALL\n",
    "\n",
    "t = PrettyTable(hrules=ALL)\n",
    "t.field_names = [ \"S.No.\",\"Vectorizer\", \"Model\", \"Hyper Parameter\", \"Test-AUC\"]\n",
    "t.add_row([1,\"TFIDF\", \"GradientBoostingClassifier\", \"max_depth =5 , n_estimators=20\", 0.687])\n",
    "t.add_row([2,\"TFIDF W2V\", \"GradientBoostingClassifier\",\" max_depth =5 , n_estimators=20\", 0.637])\n",
    "print(t)"
   ]
  }
 ],
 "metadata": {
  "colab": {
   "collapsed_sections": [],
   "name": "11_Assignment_GBDT_Instructions.ipynb",
   "provenance": [],
   "version": "0.3.2"
  },
  "kernelspec": {
   "display_name": "Python 3",
   "language": "python",
   "name": "python3"
  },
  "language_info": {
   "codemirror_mode": {
    "name": "ipython",
    "version": 3
   },
   "file_extension": ".py",
   "mimetype": "text/x-python",
   "name": "python",
   "nbconvert_exporter": "python",
   "pygments_lexer": "ipython3",
   "version": "3.8.8"
  }
 },
 "nbformat": 4,
 "nbformat_minor": 1
}
