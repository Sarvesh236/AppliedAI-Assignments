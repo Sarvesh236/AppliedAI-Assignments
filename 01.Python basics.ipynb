{
 "cells": [
  {
   "cell_type": "code",
   "execution_count": 1,
   "id": "da61e80d",
   "metadata": {},
   "outputs": [
    {
     "name": "stdout",
     "output_type": "stream",
     "text": [
      "Type a number:40\n",
      "Multiplication Tables for 40 are:\n",
      "40 x 1 = 40\n",
      "40 x 2 = 80\n",
      "40 x 3 = 120\n",
      "40 x 4 = 160\n",
      "40 x 5 = 200\n",
      "40 x 6 = 240\n",
      "40 x 7 = 280\n",
      "40 x 8 = 320\n",
      "40 x 9 = 360\n",
      "40 x 10 = 400\n"
     ]
    }
   ],
   "source": [
    "#1\n",
    "\n",
    "def table(n):\n",
    "    \"\"\"\n",
    "    This function prints multiplication tables from 1 to 10 for given number. \n",
    "    \"\"\"\n",
    "    for i in range(1,11):\n",
    "        print(\"{0} x {1} = {2}\".format(n,i,n*i))\n",
    "\n",
    "n = int(input(\"Type a number:\"))\n",
    "print(\"Multiplication Tables for {} are:\".format(n))\n",
    "table(n)"
   ]
  },
  {
   "cell_type": "code",
   "execution_count": 6,
   "id": "8ab30aea",
   "metadata": {},
   "outputs": [
    {
     "name": "stdout",
     "output_type": "stream",
     "text": [
      "Prime twins less than 1000 are: \n",
      "(3,5)\n",
      "(5,7)\n",
      "(11,13)\n",
      "(17,19)\n",
      "(29,31)\n",
      "(41,43)\n",
      "(59,61)\n",
      "(71,73)\n",
      "(101,103)\n",
      "(107,109)\n",
      "(137,139)\n",
      "(149,151)\n",
      "(179,181)\n",
      "(191,193)\n",
      "(197,199)\n",
      "(227,229)\n",
      "(239,241)\n",
      "(269,271)\n",
      "(281,283)\n",
      "(311,313)\n",
      "(347,349)\n",
      "(419,421)\n",
      "(431,433)\n",
      "(461,463)\n",
      "(521,523)\n",
      "(569,571)\n",
      "(599,601)\n",
      "(617,619)\n",
      "(641,643)\n",
      "(659,661)\n",
      "(809,811)\n",
      "(821,823)\n",
      "(827,829)\n",
      "(857,859)\n",
      "(881,883)\n"
     ]
    }
   ],
   "source": [
    "#2\n",
    "\n",
    "def prime(n):\n",
    "    \"\"\"\n",
    "    This function will check whether the given number is prime.\n",
    "    \"\"\"\n",
    "    for i in range(2,n):\n",
    "        if n%i == 0:\n",
    "            return False\n",
    "    return True\n",
    "\n",
    "print(\"Prime twins less than 1000 are: \")\n",
    "for x in range(2,1000):\n",
    "    if prime(x)==True and prime(x+2)==True:\n",
    "        print(\"({0},{1})\".format(x,x+2))"
   ]
  },
  {
   "cell_type": "code",
   "execution_count": 2,
   "id": "70908f4f",
   "metadata": {},
   "outputs": [
    {
     "name": "stdout",
     "output_type": "stream",
     "text": [
      "Type the number:56\n"
     ]
    },
    {
     "data": {
      "text/plain": [
       "[2, 2, 2, 7]"
      ]
     },
     "execution_count": 2,
     "metadata": {},
     "output_type": "execute_result"
    }
   ],
   "source": [
    "#3\n",
    "\n",
    "def pFactors(n):\n",
    "    \"\"\"\n",
    "    This function will return List of prime factors of a given number.\n",
    "    \"\"\"\n",
    "    factors=[]\n",
    "    i=2\n",
    "    while (n/i != 1):\n",
    "        if n%i == 0:\n",
    "            factors.append(i)\n",
    "            n=n//i\n",
    "        else:\n",
    "            i=i+1\n",
    "    if n>1:\n",
    "        factors.append(i)\n",
    "    return factors\n",
    "        \n",
    "num = int(input(\"Type the number:\"))\n",
    "pFactors(num)\n"
   ]
  },
  {
   "cell_type": "code",
   "execution_count": 4,
   "id": "01782093",
   "metadata": {},
   "outputs": [
    {
     "name": "stdout",
     "output_type": "stream",
     "text": [
      "Enter the number of objects n and common difference r:\n",
      "\n",
      "n:8\n",
      "r:4\n",
      "Number of Permutations: 1680.0\n",
      "Number of Combinations: 70.0\n"
     ]
    }
   ],
   "source": [
    "#4\n",
    "\n",
    "def fact(n):\n",
    "    \"\"\"\n",
    "    This function returns the factorial of a given number.\n",
    "    \"\"\"\n",
    "    if n==0|n==1:\n",
    "        return n\n",
    "    else:\n",
    "        return n*fact(n-1)\n",
    "    \n",
    "print(\"Enter the number of objects n and common difference r:\\n\")\n",
    "n = int(input(\"n:\"))\n",
    "r = int(input(\"r:\"))\n",
    "print(\"Number of Permutations:\",fact(n)/fact(n-r))\n",
    "print(\"Number of Combinations:\",fact(n)/(fact(n-r)*fact(r)))\n"
   ]
  },
  {
   "cell_type": "code",
   "execution_count": 6,
   "id": "c43b94e0",
   "metadata": {},
   "outputs": [
    {
     "name": "stdout",
     "output_type": "stream",
     "text": [
      "Enter a Decimal number:10\n",
      "Binary equivalent of 10 is: 01010"
     ]
    }
   ],
   "source": [
    "#5\n",
    "\n",
    "def decToBin(n):\n",
    "    if n>=1:\n",
    "        decToBin(n//2)\n",
    "    print(n%2 , end='')\n",
    "    \n",
    "num = int(input(\"Enter a Decimal number:\"))\n",
    "print(\"Binary equivalent of {} is:\".format(num), end=' ')\n",
    "decToBin(num)"
   ]
  },
  {
   "cell_type": "code",
   "execution_count": 8,
   "id": "c1408d50",
   "metadata": {},
   "outputs": [
    {
     "name": "stdout",
     "output_type": "stream",
     "text": [
      "Type a number:153\n",
      "The cube sum of 153 is: 153\n",
      "is 153 an Armstrong number? : YES\n",
      "Armstrong numbers between 0 and 153: [0, 1, 153]\n"
     ]
    }
   ],
   "source": [
    "#6\n",
    "\n",
    "def cubeSum(n):\n",
    "    \"\"\"\n",
    "    This function will returns the sum of cube of individual digits of the given number.\n",
    "    \"\"\"\n",
    "    sum=0\n",
    "    while n>0:\n",
    "        d = n%10\n",
    "        sum += d**3\n",
    "        n//=10\n",
    "    return sum\n",
    "\n",
    "def isArmstrong(n):\n",
    "    if n == cubeSum(n):\n",
    "        return \"YES\"\n",
    "    else:\n",
    "        return \"NO\"\n",
    "\n",
    "def printArmstrong(n):\n",
    "    \"\"\"\n",
    "    This function will return Armstrong numbers between 0 and given number.\n",
    "    \"\"\"\n",
    "    n=n+1\n",
    "    arm=[]\n",
    "    for i in range(n):\n",
    "        if isArmstrong(i)==\"YES\":\n",
    "            arm.append(i)\n",
    "    return arm\n",
    "\n",
    "num = int(input(\"Type a number:\"))\n",
    "print(\"The cube sum of {} is:\".format(num), cubeSum(num))\n",
    "print(\"is {} an Armstrong number? :\".format(num), isArmstrong(num))\n",
    "print(\"Armstrong numbers between 0 and {}:\".format(num),printArmstrong(num))"
   ]
  },
  {
   "cell_type": "code",
   "execution_count": 9,
   "id": "dabb2caf",
   "metadata": {},
   "outputs": [
    {
     "name": "stdout",
     "output_type": "stream",
     "text": [
      "Type a number:86\n",
      "Product of the Digits is:48\n"
     ]
    }
   ],
   "source": [
    "#7\n",
    "\n",
    "def prodDigits(n):\n",
    "    \"\"\"\n",
    "    This function will return Product of the Digits.\n",
    "    \"\"\"\n",
    "    p=1\n",
    "    while(n>0):\n",
    "        d=n%10\n",
    "        p*=d\n",
    "        n//=10\n",
    "    return p\n",
    "\n",
    "num = int(input(\"Type a number:\"))\n",
    "print(\"Product of the Digits is:{}\".format(prodDigits(num)))"
   ]
  },
  {
   "cell_type": "code",
   "execution_count": 10,
   "id": "9475ad21",
   "metadata": {},
   "outputs": [
    {
     "name": "stdout",
     "output_type": "stream",
     "text": [
      "Type a number:56\n",
      "MDR of 56 is 0 and its multiplicative persistence is 2\n"
     ]
    }
   ],
   "source": [
    "#8\n",
    "\n",
    "def MDR(n):\n",
    "    \"\"\"\n",
    "    This function will calculate MDR and MPersistence of a given number.\n",
    "    \"\"\"\n",
    "    s=str(n)\n",
    "    p=0\n",
    "    \n",
    "    while len(s)>1:\n",
    "        s=str(prodDigits(int(s)))  #prodDigits() from #7\n",
    "        p+=1\n",
    "    return int(s),p\n",
    "    \n",
    "\n",
    "num = int(input(\"Type a number:\"))\n",
    "mdr,per=MDR(num)\n",
    "print(\"MDR of {} is {} and its multiplicative persistence is {}\".format(num,mdr,per))"
   ]
  },
  {
   "cell_type": "code",
   "execution_count": 11,
   "id": "3c22d624",
   "metadata": {},
   "outputs": [
    {
     "name": "stdout",
     "output_type": "stream",
     "text": [
      "Type a number:96\n",
      "Sum of Proper Divisors of 96 is 156\n"
     ]
    }
   ],
   "source": [
    "#9\n",
    "\n",
    "def sumPDivisors(n):\n",
    "    \"\"\"\n",
    "    This function will return Sum of Proper Divisors for the given number.\n",
    "    \"\"\"\n",
    "    sum=0\n",
    "    for i in range(1,n):\n",
    "        if(n%i==0):\n",
    "            sum+=i\n",
    "    return sum\n",
    "\n",
    "num = int(input(\"Type a number:\"))\n",
    "print(\"Sum of Proper Divisors of {} is\".format(num),sumPDivisors(num))\n"
   ]
  },
  {
   "cell_type": "code",
   "execution_count": 12,
   "id": "a80112fe",
   "metadata": {},
   "outputs": [
    {
     "name": "stdout",
     "output_type": "stream",
     "text": [
      "Enter the lower range:100\n",
      "Enter the upper range:500\n",
      "The perfect numbers between 100 and 500 are: 496 "
     ]
    }
   ],
   "source": [
    "#10\n",
    "\n",
    "def perfectNum(l,u):\n",
    "    \"\"\"\n",
    "    This function prints perfect numbers.\n",
    "    \"\"\"\n",
    "    for i in range(l,u):\n",
    "        if i==sumPDivisors(i):    # sumPDivisors from #9\n",
    "            print(i,end=' ')\n",
    "\n",
    "lo = int(input(\"Enter the lower range:\"))\n",
    "up = int(input(\"Enter the upper range:\"))\n",
    "print(\"The perfect numbers between {} and {} are: \".format(lo,up),end='')\n",
    "perfectNum(lo,up)\n"
   ]
  },
  {
   "cell_type": "code",
   "execution_count": 16,
   "id": "8e6fa65a",
   "metadata": {},
   "outputs": [
    {
     "name": "stdout",
     "output_type": "stream",
     "text": [
      "Enter the lower range:1000\n",
      "Enter the upper range:2000\n",
      "The amicable numbers between 1000 and 2000 are: 1184 1210\n"
     ]
    }
   ],
   "source": [
    "#11\n",
    "\n",
    "def amicableNum(l,u):\n",
    "    \"\"\"\n",
    "    This function prints Amicable numbers.\n",
    "    \"\"\"\n",
    "    for i in range(l,u+1):\n",
    "            for j in range(i,u+1):\n",
    "                if i!=j:\n",
    "                    if sumPDivisors(i)==j and sumPDivisors(j)==i:    # sumPDivisors from #9\n",
    "                        print(i,j)\n",
    "                        \n",
    "                        \n",
    "lo = int(input(\"Enter the lower range:\"))\n",
    "up = int(input(\"Enter the upper range:\"))\n",
    "print(\"The amicable numbers between {} and {} are: \".format(lo,up),end='')\n",
    "amicableNum(lo,up)"
   ]
  },
  {
   "cell_type": "code",
   "execution_count": 17,
   "id": "d5260070",
   "metadata": {},
   "outputs": [
    {
     "name": "stdout",
     "output_type": "stream",
     "text": [
      "[1, 3, 5, 7, 9, 11, 13, 15, 17, 19, 21, 23, 25, 27, 29, 31, 33, 35, 37, 39, 41, 43, 45, 47, 49, 51, 53, 55, 57, 59, 61, 63, 65, 67, 69, 71, 73, 75, 77, 79, 81, 83, 85, 87, 89, 91, 93, 95, 97, 99]\n"
     ]
    }
   ],
   "source": [
    "#12\n",
    "\n",
    "def oddNum(n):\n",
    "    if n%2 != 0:\n",
    "        return n\n",
    "\n",
    "num = range(0,100)\n",
    "odd_num = list(filter(oddNum,num))\n",
    "print(odd_num)"
   ]
  },
  {
   "cell_type": "code",
   "execution_count": 20,
   "id": "7bd7c54b",
   "metadata": {},
   "outputs": [
    {
     "name": "stdout",
     "output_type": "stream",
     "text": [
      "[0, 1, 2, 3, 4, 5, 6, 7, 8, 9]\n",
      "[0, 1, 8, 27, 64, 125, 216, 343, 512, 729]\n"
     ]
    }
   ],
   "source": [
    "#13\n",
    "\n",
    "def cubes(n):\n",
    "    return n**3\n",
    "\n",
    "num = range(0,10)\n",
    "cube_list = list(map(cubes,num))\n",
    "print(list(num))\n",
    "print(cube_list)"
   ]
  },
  {
   "cell_type": "code",
   "execution_count": 21,
   "id": "c1b69c41",
   "metadata": {},
   "outputs": [
    {
     "name": "stdout",
     "output_type": "stream",
     "text": [
      "[2, 4, 6, 8, 10, 12, 14, 16, 18]\n",
      "[8, 64, 216, 512, 1000, 1728, 2744, 4096, 5832]\n"
     ]
    }
   ],
   "source": [
    "#14\n",
    "\n",
    "def evenNum(n):\n",
    "    if n%2 == 0:\n",
    "        return n\n",
    "\n",
    "def cubes(n):\n",
    "    return n**3\n",
    "\n",
    "num = range(0,20)\n",
    "even_num = list(filter(evenNum,num))\n",
    "cube_list = list(map(cubes,even_num))\n",
    "print(even_num)\n",
    "print(cube_list)"
   ]
  }
 ],
 "metadata": {
  "kernelspec": {
   "display_name": "Python 3",
   "language": "python",
   "name": "python3"
  },
  "language_info": {
   "codemirror_mode": {
    "name": "ipython",
    "version": 3
   },
   "file_extension": ".py",
   "mimetype": "text/x-python",
   "name": "python",
   "nbconvert_exporter": "python",
   "pygments_lexer": "ipython3",
   "version": "3.8.8"
  }
 },
 "nbformat": 4,
 "nbformat_minor": 5
}
